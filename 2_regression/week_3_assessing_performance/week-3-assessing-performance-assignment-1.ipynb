{
 "cells": [
  {
   "cell_type": "markdown",
   "metadata": {},
   "source": [
    "# Regression Week 3: Assessing Model Performance Quiz 2"
   ]
  },
  {
   "cell_type": "markdown",
   "metadata": {
    "collapsed": true
   },
   "source": [
    "## Polynomial Regression Quiz\n",
    "\n",
    "In this notebook you will compare different regression models in order to assess which model fits best. We will be using polynomial regression as a means to examine this topic. In particular you will:\n",
    "1. Write a function to take an an array and a degree and return an data frame where each column is the array to a polynomial value up to the total degree.\n",
    "2. Use a plotting tool (e.g. matplotlib) to visualize polynomial regressions\n",
    "3. Use a plotting tool (e.g. matplotlib) to visualize the same polynomial degree on different subsets of the data\n",
    "4. Use a validation set to select a polynomial degree\n",
    "5. Assess the final fit using test data"
   ]
  },
  {
   "cell_type": "code",
   "execution_count": 1,
   "metadata": {
    "collapsed": true
   },
   "outputs": [],
   "source": [
    "import pandas as pd\n",
    "import numpy as np\n",
    "from sklearn.linear_model import LinearRegression\n",
    "import zipfile\n",
    "import os\n",
    "import glob\n",
    "from math import log\n",
    "import matplotlib as mpl\n",
    "import matplotlib.pyplot as plt\n",
    "%matplotlib inline"
   ]
  },
  {
   "cell_type": "markdown",
   "metadata": {},
   "source": [
    "#### Unzip the csv files (datasets)"
   ]
  },
  {
   "cell_type": "code",
   "execution_count": 2,
   "metadata": {
    "collapsed": false
   },
   "outputs": [
    {
     "name": "stdout",
     "output_type": "stream",
     "text": [
      "Unzipping...\n",
      "['./datasets\\\\kc_house_data.csv.zip', './datasets\\\\wk3_kc_house_set_1_data.csv.zip', './datasets\\\\wk3_kc_house_set_2_data.csv.zip', './datasets\\\\wk3_kc_house_set_3_data.csv.zip', './datasets\\\\wk3_kc_house_set_4_data.csv.zip', './datasets\\\\wk3_kc_house_test_data.csv.zip', './datasets\\\\wk3_kc_house_train_data.csv.zip', './datasets\\\\wk3_kc_house_valid_data.csv.zip']\n"
     ]
    }
   ],
   "source": [
    "# Extract all zips in the folder data sets\n",
    "for root, dirs, files in os.walk(\"./datasets\", topdown=False):\n",
    "    zip_files = glob.glob(root + '/*.zip')\n",
    "    print(\"Unzipping...\")\n",
    "    print(zip_files)\n",
    "    for zip_filename in zip_files:\n",
    "        dir_name = os.path.splitext(zip_filename)[0]\n",
    "        zip_handler = zipfile.ZipFile(zip_filename, \"r\")\n",
    "        zip_handler.extractall(root)"
   ]
  },
  {
   "cell_type": "markdown",
   "metadata": {},
   "source": [
    "####  Load the csv data in pandas dataframes"
   ]
  },
  {
   "cell_type": "code",
   "execution_count": 3,
   "metadata": {
    "collapsed": false
   },
   "outputs": [],
   "source": [
    "# Dictionary with the correct dtypes for the DataFrame columns\n",
    "dtype_dict = {'bathrooms':float, 'waterfront':int, 'sqft_above':int, \n",
    "              'sqft_living15':float, 'grade':int, 'yr_renovated':int, \n",
    "              'price':float, 'bedrooms':float, 'zipcode':str, \n",
    "              'long':float, 'sqft_lot15':float, 'sqft_living':float, \n",
    "              'floors':str, 'condition':int, 'lat':float, 'date':str, \n",
    "              'sqft_basement':int, 'yr_built':int, 'id':str, 'sqft_lot':int, 'view':int}\n",
    "\n",
    "house_data = pd.read_csv('./datasets/kc_house_data.csv', dtype = dtype_dict)\n",
    "set1_data = pd.read_csv('./datasets/wk3_kc_house_set_1_data.csv', dtype = dtype_dict)\n",
    "set2_data = pd.read_csv('./datasets/wk3_kc_house_set_2_data.csv', dtype = dtype_dict)\n",
    "set3_data = pd.read_csv('./datasets/wk3_kc_house_set_3_data.csv', dtype = dtype_dict)\n",
    "set4_data = pd.read_csv('./datasets/wk3_kc_house_set_4_data.csv', dtype = dtype_dict)\n",
    "test_data = pd.read_csv('./datasets/wk3_kc_house_test_data.csv', dtype = dtype_dict)\n",
    "train_data = pd.read_csv('./datasets/wk3_kc_house_train_data.csv', dtype = dtype_dict)\n",
    "valid_data = pd.read_csv('./datasets/wk3_kc_house_valid_data.csv', dtype = dtype_dict)"
   ]
  },
  {
   "cell_type": "markdown",
   "metadata": {},
   "source": [
    "#### 1.You’re going to write a function that adds powers of a feature to columns of a data frame"
   ]
  },
  {
   "cell_type": "code",
   "execution_count": 4,
   "metadata": {
    "collapsed": false
   },
   "outputs": [
    {
     "data": {
      "text/plain": [
       "0    64\n",
       "1    64\n",
       "2     8\n",
       "3    27\n",
       "4    27\n",
       "Name: bedrooms, dtype: float64"
      ]
     },
     "execution_count": 4,
     "metadata": {},
     "output_type": "execute_result"
    }
   ],
   "source": [
    "train_data['bedrooms'].apply(lambda x: x**3).head()"
   ]
  },
  {
   "cell_type": "markdown",
   "metadata": {},
   "source": [
    "#### 2.Write your own function called ‘polynomial_sframe’ which accepts an array ‘feature’ and a maximal ‘degree’ and returns an data frame (e.g. SFrame) with the first column equal to ‘feature’ and the remaining columns equal to ‘feature’ to increasing integer powers up to ‘degree’."
   ]
  },
  {
   "cell_type": "code",
   "execution_count": 5,
   "metadata": {
    "collapsed": false
   },
   "outputs": [],
   "source": [
    "def polynomial_dataframe(feature, degree): # feature is pandas.Series type\n",
    "    # assume that degree >= 1\n",
    "    if degree<1:\n",
    "        raise ValueError\n",
    "    # initialize the dataframe:\n",
    "    poly_dataframe = pd.DataFrame()\n",
    "    # and set poly_dataframe['power_1'] equal to the passed feature\n",
    "    poly_dataframe['power_1'] = feature\n",
    "    # first check if degree > 1\n",
    "    if degree > 1:\n",
    "        # then loop over the remaining degrees:\n",
    "        for power in range(2, degree+1):\n",
    "            # first we'll give the column a name:\n",
    "            name = 'power_' + str(power)\n",
    "            # assign poly_dataframe[name] to be feature^power; use apply(*)\n",
    "            poly_dataframe[name] = poly_dataframe['power_1'].apply(lambda x: x**power)\n",
    "    return poly_dataframe"
   ]
  },
  {
   "cell_type": "markdown",
   "metadata": {},
   "source": [
    "#### 3.For the remainder of the assignment we will be working with the house Sales data as in the previous notebooks. Load in the data and also sort the sales SFrame by ‘sqft_living’. When we plot the fitted values we want to join them up in a line and this works best if the variable on the X-axis (which will be ‘sqft_living’) is sorted. For houses with identical square footage, we break the tie by their prices."
   ]
  },
  {
   "cell_type": "code",
   "execution_count": 6,
   "metadata": {
    "collapsed": false
   },
   "outputs": [],
   "source": [
    "sales = house_data.sort_values(by=['sqft_living','price'])"
   ]
  },
  {
   "cell_type": "markdown",
   "metadata": {},
   "source": [
    "#### 4.Make a 1 degree polynomial SFrame with sales[‘sqft_living’] as the the feature. Call it ‘poly1_data’."
   ]
  },
  {
   "cell_type": "code",
   "execution_count": 7,
   "metadata": {
    "collapsed": false
   },
   "outputs": [],
   "source": [
    "poly1_data = polynomial_dataframe(sales['sqft_living'], 1)"
   ]
  },
  {
   "cell_type": "markdown",
   "metadata": {},
   "source": [
    "#### 5.Add sales[‘price’] to poly1_data as this will be our output variable."
   ]
  },
  {
   "cell_type": "code",
   "execution_count": 8,
   "metadata": {
    "collapsed": true
   },
   "outputs": [],
   "source": [
    "poly1_data['price'] = sales['price']"
   ]
  },
  {
   "cell_type": "markdown",
   "metadata": {},
   "source": [
    "#### 6.Compute the regression weights for predicting sales[‘price’] based on the 1 degree polynomial feature ‘sqft_living’. The result should be an intercept and slope."
   ]
  },
  {
   "cell_type": "code",
   "execution_count": 9,
   "metadata": {
    "collapsed": false
   },
   "outputs": [
    {
     "data": {
      "text/plain": [
       "[array([ 280.6235679]), -43580.743094472913]"
      ]
     },
     "execution_count": 9,
     "metadata": {},
     "output_type": "execute_result"
    }
   ],
   "source": [
    "model1 = LinearRegression()\n",
    "features = ['power_1']\n",
    "target = 'price'\n",
    "model1.fit(poly1_data[features], poly1_data[target])\n",
    "[model1.coef_, model1.intercept_]"
   ]
  },
  {
   "cell_type": "markdown",
   "metadata": {},
   "source": [
    "#### 7.Next use the produce a scatter plot of the training data (just square feet vs price) and add the fitted model."
   ]
  },
  {
   "cell_type": "code",
   "execution_count": 16,
   "metadata": {
    "collapsed": false
   },
   "outputs": [
    {
     "data": {
      "image/png": "[encoded data removed]",
      "text/plain": [
       "<matplotlib.figure.Figure at 0xc6630f0>"
      ]
     },
     "metadata": {},
     "output_type": "display_data"
    },
    {
     "name": "stdout",
     "output_type": "stream",
     "text": [
      "(array([ 280.6235679]), -43580.743094472913)\n"
     ]
    }
   ],
   "source": [
    "# The resulting plot should look like a cloud of points with a straight line passing through.\n",
    "plt.plot(sales['sqft_living'],sales['price'], \".\")\n",
    "plt.xlabel(\"Sqft. living\")\n",
    "plt.ylabel(\"Price ($)\")\n",
    "plt.hold(True)\n",
    "# sales['sqft_living']*model1.coef_+ model1.intercept_ === model1.predict(sales[features])\n",
    "plt.plot(sales['sqft_living'], model1.predict(poly1_data[features]), \"-r\")\n",
    "plt.show()\n",
    "print(model1.coef_, model1.intercept_)"
   ]
  },
  {
   "cell_type": "markdown",
   "metadata": {},
   "source": [
    "#### 8.Now that you have plotted the results using a 1st degree polynomial, try it again using a 2nd degree and 3rd degree polynomial. Look at the fitted lines, do they appear as you would expect?"
   ]
  },
  {
   "cell_type": "code",
   "execution_count": 17,
   "metadata": {
    "collapsed": false
   },
   "outputs": [
    {
     "name": "stdout",
     "output_type": "stream",
     "text": [
      "Model 2 coef and intercept: [  6.79940947e+01   3.85812609e-02], 199222.279305\n",
      "Model 3 coef and intercept: [ -9.01819864e+01   8.70465089e-02  -3.84055260e-06], 336819.748221\n"
     ]
    },
    {
     "data": {
      "text/plain": [
       "[<matplotlib.lines.Line2D at 0xd17c208>,\n",
       " <matplotlib.lines.Line2D at 0xd17c860>,\n",
       " <matplotlib.lines.Line2D at 0xd17ce10>]"
      ]
     },
     "execution_count": 17,
     "metadata": {},
     "output_type": "execute_result"
    },
    {
     "data": {
      "image/png": "[encoded data removed]",
      "text/plain": [
       "<matplotlib.figure.Figure at 0xcfe0cf8>"
      ]
     },
     "metadata": {},
     "output_type": "display_data"
    }
   ],
   "source": [
    "target = 'price'\n",
    "poly2_data = polynomial_dataframe(sales['sqft_living'], 2)\n",
    "poly3_data = polynomial_dataframe(sales['sqft_living'], 3)\n",
    "model2 = LinearRegression()\n",
    "model3 = LinearRegression()\n",
    "features_model2 = poly2_data.columns\n",
    "features_model3 = poly3_data.columns\n",
    "poly2_data['price'] = sales['price']\n",
    "poly3_data['price'] = sales['price']\n",
    "model2.fit(poly2_data[features_model2], poly2_data[target])\n",
    "model3.fit(poly3_data[features_model3], poly3_data[target])\n",
    "print(\"Model 2 coef and intercept: %s\" %  \", \".join([str(model2.coef_), str(model2.intercept_)]))\n",
    "print(\"Model 3 coef and intercept: %s\" %  \", \".join([str(model3.coef_), str(model3.intercept_)]))\n",
    "plt.plot(sales['sqft_living'],sales['price'], \".\",\n",
    "         poly2_data['power_1'], model2.predict(poly2_data[features_model2]), \"-g\",\n",
    "         poly3_data['power_1'], model3.predict(poly3_data[features_model3]), \"-y\")"
   ]
  },
  {
   "cell_type": "markdown",
   "metadata": {},
   "source": [
    "#### 9.Now try a 15th degree polynomial. Print out the coefficients and look at the resulted fitted line. Do you think this degree is appropriate for these data? If we were to use a different subset of the data do you think we would get pretty much the same curve?"
   ]
  },
  {
   "cell_type": "code",
   "execution_count": 19,
   "metadata": {
    "collapsed": false
   },
   "outputs": [
    {
     "name": "stdout",
     "output_type": "stream",
     "text": [
      "Model 15 coef and intercept: [  4.56404164e-91  -2.69272563e-50   8.00907496e-56   4.97841222e-60\n",
      "   1.19863929e-74   2.68575522e-71   2.26147568e-67   1.85900299e-63\n",
      "   1.47144116e-59   1.09771012e-55   7.43509038e-52   4.23015578e-48\n",
      "   1.61618577e-44  -2.49283826e-48   9.59718336e-53], 537116.329638\n"
     ]
    },
    {
     "data": {
      "text/plain": [
       "[<matplotlib.lines.Line2D at 0xcdc9358>,\n",
       " <matplotlib.lines.Line2D at 0xcdc9cc0>]"
      ]
     },
     "execution_count": 19,
     "metadata": {},
     "output_type": "execute_result"
    },
    {
     "data": {
      "image/png": "[encoded data removed]",
      "text/plain": [
       "<matplotlib.figure.Figure at 0xd9a2588>"
      ]
     },
     "metadata": {},
     "output_type": "display_data"
    }
   ],
   "source": [
    "poly15_data = polynomial_dataframe(sales['sqft_living'], 15)\n",
    "my_features = poly15_data.columns # get the name of the features\n",
    "poly15_data['price'] = sales['price'] # add price to the data since it's the target\n",
    "model15 = LinearRegression()\n",
    "model15.fit(poly15_data[my_features], poly15_data[target])\n",
    "print(\"Model 15 coef and intercept: %s\" %  \", \".join([str(model15.coef_), str(model15.intercept_)]))\n",
    "plt.plot(poly15_data['power_1'],poly15_data['price'],'.',\n",
    "        poly15_data['power_1'], model15.predict(poly15_data[my_features]),'-')"
   ]
  },
  {
   "cell_type": "code",
   "execution_count": 18,
   "metadata": {
    "collapsed": false
   },
   "outputs": [
    {
     "name": "stdout",
     "output_type": "stream",
     "text": [
      "Index([u'power_1', u'power_2', u'power_3', u'power_4', u'power_5', u'power_6',\n",
      "       u'power_7', u'power_8', u'power_9', u'power_10', u'power_11',\n",
      "       u'power_12', u'power_13', u'power_14', u'power_15'],\n",
      "      dtype='object')\n",
      "Model coefs and intercept: [  4.56404164e-91  -2.69272563e-50   8.00907496e-56   4.97841222e-60\n",
      "   1.19863929e-74   2.68575522e-71   2.26147568e-67   1.85900299e-63\n",
      "   1.47144116e-59   1.09771012e-55   7.43509038e-52   4.23015578e-48\n",
      "   1.61618577e-44  -2.49283826e-48   9.59718336e-53], 537116.329638\n"
     ]
    },
    {
     "data": {
      "image/png": "[encoded data removed]",
      "text/plain": [
       "<matplotlib.figure.Figure at 0xcd319e8>"
      ]
     },
     "metadata": {},
     "output_type": "display_data"
    }
   ],
   "source": [
    "# Seems like next questions have to do with trying out different datasets with different degrees, therefor I create a function\n",
    "def polynomial_checker(data, degree):\n",
    "    target = 'price'\n",
    "    poly_data = polynomial_dataframe(data['sqft_living'], degree)\n",
    "    model = LinearRegression()\n",
    "    features_model = poly_data.columns\n",
    "    print(features_model)\n",
    "    poly_data['price'] = data['price']\n",
    "    model.fit(poly_data[features_model], poly_data[target])\n",
    "    print(\"Model coefs and intercept: %s\" %  \", \".join([str(model.coef_), str(model.intercept_)]))\n",
    "    plt.plot(poly_data['power_1'],poly_data['price'], \".\",\n",
    "         poly_data['power_1'], model.predict(poly_data[features_model]), \"-g\")\n",
    "polynomial_checker(sales, 15)"
   ]
  },
  {
   "cell_type": "markdown",
   "metadata": {},
   "source": [
    "10.Create four subsets as follows:\n",
    "1. first split sales into 2 subsets with .random_split(.5) use seed = 0!\n",
    "2. next split these into 2 more subsets (4 total) using random_split(0.5) again set seed = 0!\n",
    "3. you should have 4 subsets of (approximately) equal size, call them set_1, set_2, set_3, and set_4\n",
    "4. If you’re not using SFrames then please download the provided csv files for each subset."
   ]
  },
  {
   "cell_type": "code",
   "execution_count": null,
   "metadata": {
    "collapsed": true
   },
   "outputs": [],
   "source": []
  },
  {
   "cell_type": "markdown",
   "metadata": {},
   "source": [
    "11.Estimate a 15th degree polynomial on all 4 sets, plot the results and view the coefficients for all four models."
   ]
  },
  {
   "cell_type": "code",
   "execution_count": null,
   "metadata": {
    "collapsed": true
   },
   "outputs": [],
   "source": []
  },
  {
   "cell_type": "markdown",
   "metadata": {},
   "source": [
    "12.Quiz Question: Is the sign (positive or negative) for power_15 the same in all four models?"
   ]
  },
  {
   "cell_type": "code",
   "execution_count": null,
   "metadata": {
    "collapsed": true
   },
   "outputs": [],
   "source": []
  },
  {
   "cell_type": "markdown",
   "metadata": {},
   "source": [
    "13.Quiz Question: True/False the plotted fitted lines look the same in all four plots\n",
    "\n"
   ]
  },
  {
   "cell_type": "code",
   "execution_count": null,
   "metadata": {
    "collapsed": true
   },
   "outputs": [],
   "source": []
  },
  {
   "cell_type": "markdown",
   "metadata": {},
   "source": [
    "14.Since the “best” polynomial degree is unknown to us we will use cross validation to select the best degree. If you’re using SFrames then create a training, validation and testing subsets as follows:\n",
    "\n",
    "1. First split sales into training_and_validation and testing with sales.random_split(0.9) use seed = 1!\n",
    "2. Next split training_and_validation into training and validation using .random_split(0.5) use seed = 1!\n",
    "3. If you’re not using SFrames then please download the provided csv files for training, validation and test data."
   ]
  },
  {
   "cell_type": "code",
   "execution_count": null,
   "metadata": {
    "collapsed": true
   },
   "outputs": [],
   "source": []
  },
  {
   "cell_type": "markdown",
   "metadata": {},
   "source": [
    "15.Now for each degree from 1 to 15:\n",
    "\n",
    "1. Build an polynomial data set using training_data[‘sqft_living’] as the feature and the current degree\n",
    "2. Add training_data[‘price’] as a column to your polynomial data set\n",
    "3. Learn a model on TRAINING data to predict ‘price’ based on your polynomial data set at the current degree\n",
    "4. Compute the RSS on VALIDATION for the current model (print or save the RSS)"
   ]
  },
  {
   "cell_type": "code",
   "execution_count": null,
   "metadata": {
    "collapsed": true
   },
   "outputs": [],
   "source": []
  },
  {
   "cell_type": "markdown",
   "metadata": {},
   "source": [
    "16.Quiz Question: Which degree (1, 2, …, 15) had the lowest RSS on Validation data?"
   ]
  },
  {
   "cell_type": "code",
   "execution_count": null,
   "metadata": {
    "collapsed": true
   },
   "outputs": [],
   "source": []
  },
  {
   "cell_type": "markdown",
   "metadata": {},
   "source": [
    "17.Now that you have selected a degree compute the RSS on TEST data for the model with the best degree from the Validation data."
   ]
  },
  {
   "cell_type": "code",
   "execution_count": null,
   "metadata": {
    "collapsed": true
   },
   "outputs": [],
   "source": []
  },
  {
   "cell_type": "markdown",
   "metadata": {},
   "source": [
    "18.Quiz Question: what is the RSS on TEST data for the model with the degree selected from Validation data? (Make sure you got the correct degree from the previous question)"
   ]
  },
  {
   "cell_type": "code",
   "execution_count": null,
   "metadata": {
    "collapsed": true
   },
   "outputs": [],
   "source": []
  },
  {
   "cell_type": "code",
   "execution_count": null,
   "metadata": {
    "collapsed": true
   },
   "outputs": [],
   "source": []
  },
  {
   "cell_type": "code",
   "execution_count": null,
   "metadata": {
    "collapsed": true
   },
   "outputs": [],
   "source": []
  }
 ],
 "metadata": {
  "kernelspec": {
   "display_name": "Python 2",
   "language": "python",
   "name": "python2"
  },
  "language_info": {
   "codemirror_mode": {
    "name": "ipython",
    "version": 2
   },
   "file_extension": ".py",
   "mimetype": "text/x-python",
   "name": "python",
   "nbconvert_exporter": "python",
   "pygments_lexer": "ipython2",
   "version": "2.7.11"
  }
 },
 "nbformat": 4,
 "nbformat_minor": 0
}
