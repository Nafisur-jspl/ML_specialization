{
 "cells": [
  {
   "cell_type": "markdown",
   "metadata": {},
   "source": [
    "# Regression Week 4: Ridge Regression (interpretation)"
   ]
  },
  {
   "cell_type": "markdown",
   "metadata": {},
   "source": [
    "In this notebook, we will run ridge regression multiple times with different L2 penalties to see which one produces the best fit. We will revisit the example of polynomial regression as a means to see the effect of L2 regularization. In particular, we will:\n",
    "* Use a pre-built implementation of regression (GraphLab Create) to run polynomial regression\n",
    "* Use matplotlib to visualize polynomial regressions\n",
    "* Use a pre-built implementation of regression (GraphLab Create) to run polynomial regression, this time with L2 penalty\n",
    "* Use matplotlib to visualize polynomial regressions under L2 regularization\n",
    "* Choose best L2 penalty using cross-validation.\n",
    "* Assess the final fit using test data.\n",
    "\n",
    "We will continue to use the House data from previous notebooks.  (In the next programming assignment for this module, you will implement your own ridge regression learning algorithm using gradient descent.)"
   ]
  },
  {
   "cell_type": "markdown",
   "metadata": {},
   "source": [
    "# Import libraries"
   ]
  },
  {
   "cell_type": "code",
   "execution_count": 1,
   "metadata": {
    "collapsed": false
   },
   "outputs": [
    {
     "name": "stderr",
     "output_type": "stream",
     "text": [
      "C:\\Miniconda2\\lib\\site-packages\\IPython\\html.py:14: ShimWarning: The `IPython.html` package has been deprecated. You should import from `notebook` instead. `IPython.html.widgets` has moved to `ipywidgets`.\n",
      "  \"`IPython.html.widgets` has moved to `ipywidgets`.\", ShimWarning)\n"
     ]
    }
   ],
   "source": [
    "import pandas as pd\n",
    "import numpy as np\n",
    "from sklearn import linear_model\n",
    "from sklearn.cross_validation import KFold\n",
    "import zipfile\n",
    "import os\n",
    "import glob\n",
    "from math import log\n",
    "import matplotlib as mpl\n",
    "import matplotlib.pyplot as plt\n",
    "import seaborn as sns\n",
    "sns.set_style('darkgrid')\n",
    "%matplotlib inline"
   ]
  },
  {
   "cell_type": "markdown",
   "metadata": {},
   "source": [
    "Unzip datasets in datasets directory in folder"
   ]
  },
  {
   "cell_type": "code",
   "execution_count": 2,
   "metadata": {
    "collapsed": false
   },
   "outputs": [
    {
     "name": "stdout",
     "output_type": "stream",
     "text": [
      "Unzipping...\n",
      "['./datasets\\\\kc_house_data.csv.zip', './datasets\\\\wk3_kc_house_set_1_data.csv.zip', './datasets\\\\wk3_kc_house_set_2_data.csv.zip', './datasets\\\\wk3_kc_house_set_3_data.csv.zip', './datasets\\\\wk3_kc_house_set_4_data.csv.zip', './datasets\\\\wk3_kc_house_test_data.csv.zip', './datasets\\\\wk3_kc_house_train_data.csv.zip', './datasets\\\\wk3_kc_house_train_valid_shuffled.csv.zip', './datasets\\\\wk3_kc_house_valid_data.csv.zip']\n"
     ]
    }
   ],
   "source": [
    "# Extract all zips in the folder data sets\n",
    "for root, dirs, files in os.walk(\"./datasets\", topdown=False):\n",
    "    zip_files = glob.glob(root + '/*.zip')\n",
    "    print(\"Unzipping...\")\n",
    "    print(zip_files)\n",
    "    for zip_filename in zip_files:\n",
    "        dir_name = os.path.splitext(zip_filename)[0]\n",
    "        zip_handler = zipfile.ZipFile(zip_filename, \"r\")\n",
    "        zip_handler.extractall(root)"
   ]
  },
  {
   "cell_type": "markdown",
   "metadata": {},
   "source": [
    "**Copy and paste an equivalent of ‘polynomial_sframe’ function from Module 3 (Polynomial Regression). This function accepts an array ‘feature’ (of type pandas.Series) and a maximal ‘degree’ and returns an data frame (of type pandas.DataFrame) with the first column equal to ‘feature’ and the remaining columns equal to ‘feature’ to increasing integer powers up to ‘degree’.**"
   ]
  },
  {
   "cell_type": "code",
   "execution_count": 3,
   "metadata": {
    "collapsed": true
   },
   "outputs": [],
   "source": [
    "def polynomial_dataframe(feature, degree): # feature is pandas.Series type\n",
    "    # assume that degree >= 1\n",
    "    # initialize the dataframe:\n",
    "    poly_dataframe = pd.DataFrame()\n",
    "    # and set poly_dataframe['power_1'] equal to the passed feature\n",
    "    poly_dataframe['power_1'] = feature\n",
    "    \n",
    "    # first check if degree > 1\n",
    "    if degree > 1:\n",
    "        # then loop over the remaining degrees:\n",
    "        for power in range(2, degree+1):\n",
    "            # first we'll give the column a name:\n",
    "            name = 'power_' + str(power)\n",
    "            # assign poly_dataframe[name] to be feature^power; use apply(*)\n",
    "            poly_dataframe[name] = poly_dataframe['power_1'].apply(lambda x: x**power) \n",
    "    return poly_dataframe"
   ]
  },
  {
   "cell_type": "markdown",
   "metadata": {},
   "source": [
    "**For the remainder of the assignment we will be working with the house Sales data as in Module 3 (Polynomial Regression). Load in the data and also sort the sales data frame by ‘sqft_living’. When we plot the fitted values we want to join them up in a line and this works best if the variable on the X-axis (which will be ‘sqft_living’) is sorted. For houses with identical square footage, we break the tie by their prices.**"
   ]
  },
  {
   "cell_type": "code",
   "execution_count": 4,
   "metadata": {
    "collapsed": false
   },
   "outputs": [],
   "source": [
    "# Dictionary with the correct dtypes for the DataFrame columns\n",
    "dtype_dict = {'bathrooms':float, 'waterfront':int, 'sqft_above':int, 'sqft_living15':float,\n",
    "              'grade':int, 'yr_renovated':int, 'price':float, 'bedrooms':float, 'zipcode':str,\n",
    "              'long':float, 'sqft_lot15':float, 'sqft_living':float, 'floors':float,\n",
    "              'condition':int, 'lat':float, 'date':str, 'sqft_basement':int, 'yr_built':int,\n",
    "              'id':str, 'sqft_lot':int, 'view':int}\n",
    "\n",
    "set1_data = pd.read_csv('./datasets/wk3_kc_house_set_1_data.csv', dtype = dtype_dict)\n",
    "set2_data = pd.read_csv('./datasets/wk3_kc_house_set_2_data.csv', dtype = dtype_dict)\n",
    "set3_data = pd.read_csv('./datasets/wk3_kc_house_set_3_data.csv', dtype = dtype_dict)\n",
    "set4_data = pd.read_csv('./datasets/wk3_kc_house_set_4_data.csv', dtype = dtype_dict)\n",
    "train_data = pd.read_csv('./datasets/wk3_kc_house_train_data.csv', dtype = dtype_dict)\n",
    "train_valid = pd.read_csv('./datasets/wk3_kc_house_valid_data.csv', dtype = dtype_dict)\n",
    "train_valid_shuffled = pd.read_csv('./datasets/wk3_kc_house_train_valid_shuffled.csv', dtype=dtype_dict)\n",
    "test = pd.read_csv('./datasets/wk3_kc_house_test_data.csv', dtype=dtype_dict)\n",
    "sales = pd.read_csv('./datasets/kc_house_data.csv', dtype=dtype_dict)\n",
    "sales = sales.sort_values(by=['sqft_living','price'])"
   ]
  },
  {
   "cell_type": "markdown",
   "metadata": {},
   "source": [
    "**Let us revisit the 15th-order polynomial model using the 'sqft_living' input. Generate polynomial features up to degree 15 using `polynomial_sframe()` and fit a model with these features. When fitting the model, use an L2 penalty of `1e-5`:**"
   ]
  },
  {
   "cell_type": "code",
   "execution_count": 5,
   "metadata": {
    "collapsed": true
   },
   "outputs": [],
   "source": [
    "l2_small_penalty = 1e-5"
   ]
  },
  {
   "cell_type": "markdown",
   "metadata": {},
   "source": [
    "Note: When we have so many features and so few data points, the solution can become highly numerically unstable, which can sometimes lead to strange unpredictable results.  Thus, rather than using no regularization, we will introduce a tiny amount of regularization (`l2_penalty=1e-5`) to make the solution numerically stable.  (In lecture, we discussed the fact that regularization can also help with numerical stability, and here we are seeing a practical example.)\n",
    "\n",
    "With the L2 penalty specified above, fit the model and print out the learned weights."
   ]
  },
  {
   "cell_type": "code",
   "execution_count": 6,
   "metadata": {
    "collapsed": false
   },
   "outputs": [
    {
     "data": {
      "text/plain": [
       "Ridge(alpha=1e-05, copy_X=True, fit_intercept=True, max_iter=None,\n",
       "   normalize=True, random_state=None, solver='auto', tol=0.001)"
      ]
     },
     "execution_count": 6,
     "metadata": {},
     "output_type": "execute_result"
    }
   ],
   "source": [
    "poly15_data = polynomial_dataframe(sales['sqft_living'], 15)\n",
    "model = linear_model.Ridge(alpha=l2_small_penalty, normalize=True)\n",
    "model.fit(poly15_data, sales['price'])"
   ]
  },
  {
   "cell_type": "markdown",
   "metadata": {},
   "source": [
    "***QUIZ QUESTION:  What's the learned value for the coefficient of feature `power_1`?***"
   ]
  },
  {
   "cell_type": "code",
   "execution_count": 7,
   "metadata": {
    "collapsed": false
   },
   "outputs": [
    {
     "data": {
      "text/plain": [
       "174.42550286769338"
      ]
     },
     "execution_count": 7,
     "metadata": {},
     "output_type": "execute_result"
    }
   ],
   "source": [
    "model.coef_[0]"
   ]
  },
  {
   "cell_type": "markdown",
   "metadata": {},
   "source": [
    "# Observe overfitting"
   ]
  },
  {
   "cell_type": "markdown",
   "metadata": {},
   "source": [
    "Recall from Week 3 that the polynomial fit of degree 15 changed wildly whenever the data changed. In particular, when we split the sales data into four subsets and fit the model of degree 15, the result came out to be very different for each subset. The model had a *high variance*. We will see in a moment that ridge regression reduces such variance. But first, we must reproduce the experiment we did in Week 3."
   ]
  },
  {
   "cell_type": "markdown",
   "metadata": {},
   "source": [
    "Next, fit a 15th degree polynomial on `set_1`, `set_2`, `set_3`, and `set_4`, using 'sqft_living' to predict prices. Print the weights and make a plot of the resulting model."
   ]
  },
  {
   "cell_type": "code",
   "execution_count": 8,
   "metadata": {
    "collapsed": false
   },
   "outputs": [
    {
     "data": {
      "text/plain": [
       "Ridge(alpha=1e-09, copy_X=True, fit_intercept=True, max_iter=None,\n",
       "   normalize=True, random_state=None, solver='auto', tol=0.001)"
      ]
     },
     "execution_count": 8,
     "metadata": {},
     "output_type": "execute_result"
    }
   ],
   "source": [
    "l2_small_penalty=1e-9\n",
    "# Copy-pasting should be avoided, creating a for loop with a dict or list of datasets... lazy today\n",
    "\n",
    "poly15_set1_data = polynomial_dataframe(set1_data['sqft_living'], 15)\n",
    "poly15_set2_data = polynomial_dataframe(set2_data['sqft_living'], 15)\n",
    "poly15_set3_data = polynomial_dataframe(set3_data['sqft_living'], 15)\n",
    "poly15_set4_data = polynomial_dataframe(set4_data['sqft_living'], 15)\n",
    "\n",
    "poly15_set1_features = poly15_set1_data.columns\n",
    "poly15_set2_features = poly15_set2_data.columns\n",
    "poly15_set3_features = poly15_set3_data.columns\n",
    "poly15_set4_features = poly15_set4_data.columns\n",
    "\n",
    "poly15_set1_data['price'] = set1_data['price']\n",
    "poly15_set2_data['price'] = set2_data['price']\n",
    "poly15_set3_data['price'] = set3_data['price']\n",
    "poly15_set4_data['price'] = set4_data['price']\n",
    "\n",
    "model_set1 = linear_model.Ridge(alpha=l2_small_penalty, normalize=True)\n",
    "model_set2 = linear_model.Ridge(alpha=l2_small_penalty, normalize=True)\n",
    "model_set3 = linear_model.Ridge(alpha=l2_small_penalty, normalize=True)\n",
    "model_set4 = linear_model.Ridge(alpha=l2_small_penalty, normalize=True)\n",
    "\n",
    "model_set1.fit(poly15_set1_data[poly15_set1_features], poly15_set1_data['price'])\n",
    "model_set2.fit(poly15_set2_data[poly15_set2_features], poly15_set2_data['price'])\n",
    "model_set3.fit(poly15_set3_data[poly15_set3_features], poly15_set3_data['price'])\n",
    "model_set4.fit(poly15_set4_data[poly15_set4_features], poly15_set4_data['price'])"
   ]
  },
  {
   "cell_type": "markdown",
   "metadata": {},
   "source": [
    "The 4 models are created with an L2 penalty of 1e-09 "
   ]
  },
  {
   "cell_type": "code",
   "execution_count": 9,
   "metadata": {
    "collapsed": false,
    "scrolled": false
   },
   "outputs": [
    {
     "data": {
      "image/png": "[encoded data removed]",
      "text/plain": [
       "<matplotlib.figure.Figure at 0x958a668>"
      ]
     },
     "metadata": {},
     "output_type": "display_data"
    }
   ],
   "source": [
    "plt.figure(figsize=(8,6))\n",
    "plt.plot(sales['sqft_living'], sales['price'],'.', label= 'House Price Data')\n",
    "plt.hold(True)\n",
    "#\n",
    "plt.plot( poly15_set1_data['power_1'], model_set1.predict(poly15_set1_data[poly15_set1_features]), '-', label = \"Model 1\" )\n",
    "plt.plot( poly15_set2_data['power_1'], model_set2.predict(poly15_set2_data[poly15_set2_features]), '-', label = \"Model 2\" )\n",
    "plt.plot( poly15_set3_data['power_1'], model_set3.predict(poly15_set3_data[poly15_set3_features]), '-', label = \"Model 3\" )\n",
    "plt.plot( poly15_set4_data['power_1'], model_set4.predict(poly15_set4_data[poly15_set4_features]), '-', label = \"Model 4\" )\n",
    "#             \n",
    "plt.hold(False)\n",
    "plt.legend(loc='upper left', fontsize=16)\n",
    "plt.xlabel('Living Area (ft^2)', fontsize=16)\n",
    "plt.ylabel('House Price ($)', fontsize=16)\n",
    "plt.title('4 Diff. 15th Deg. Polynomial Regr. Models, Small L2 Penalty', fontsize=16)\n",
    "plt.axis([0.0, 14000.0, 0.0, 8000000.0])\n",
    "plt.show()"
   ]
  },
  {
   "cell_type": "code",
   "execution_count": 10,
   "metadata": {
    "collapsed": false
   },
   "outputs": [
    {
     "data": {
      "text/plain": [
       "array([  5.44669398e+02,  -3.55447605e-01,   1.22446381e-04,\n",
       "        -1.17175316e-08,  -3.90512384e-13,  -1.39076404e-17,\n",
       "         1.47860291e-20,   6.87492214e-25,  -7.57204274e-29,\n",
       "        -1.04097325e-32,  -3.71843898e-37,   3.39989400e-41,\n",
       "         5.56591887e-45,   2.53761400e-49,  -3.35152904e-53])"
      ]
     },
     "execution_count": 10,
     "metadata": {},
     "output_type": "execute_result"
    }
   ],
   "source": [
    "model_set1.coef_"
   ]
  },
  {
   "cell_type": "code",
   "execution_count": 11,
   "metadata": {
    "collapsed": false
   },
   "outputs": [
    {
     "data": {
      "text/plain": [
       "array([  8.59362652e+02,  -8.18118252e-01,   4.28879939e-04,\n",
       "        -9.12770356e-08,  -2.69605438e-12,   3.73980461e-15,\n",
       "        -1.42711909e-19,  -6.30794876e-23,  -1.44559645e-27,\n",
       "         7.44321701e-31,   9.25865767e-35,   3.27986673e-41,\n",
       "        -1.29543494e-42,  -1.38781255e-46,   1.66546445e-50])"
      ]
     },
     "execution_count": 11,
     "metadata": {},
     "output_type": "execute_result"
    }
   ],
   "source": [
    "model_set2.coef_"
   ]
  },
  {
   "cell_type": "code",
   "execution_count": 12,
   "metadata": {
    "collapsed": false
   },
   "outputs": [
    {
     "data": {
      "text/plain": [
       "array([ -7.55395869e+02,   9.75579420e-01,  -4.58945929e-04,\n",
       "         7.77957852e-08,   7.15013828e-12,  -2.88602007e-15,\n",
       "        -2.13678502e-20,   3.38085306e-23,   2.19178151e-27,\n",
       "        -1.97067790e-31,  -4.15993065e-35,  -1.80196334e-39,\n",
       "         3.19071213e-43,   5.08456973e-47,  -3.93304296e-51])"
      ]
     },
     "execution_count": 12,
     "metadata": {},
     "output_type": "execute_result"
    }
   ],
   "source": [
    "model_set3.coef_"
   ]
  },
  {
   "cell_type": "code",
   "execution_count": 13,
   "metadata": {
    "collapsed": false
   },
   "outputs": [
    {
     "data": {
      "text/plain": [
       "array([  1.11944570e+03,  -9.83760197e-01,   3.38770888e-04,\n",
       "         3.60377234e-08,  -4.37814019e-11,   5.77191677e-15,\n",
       "         7.66795276e-19,  -9.49297804e-23,  -1.96030793e-26,\n",
       "        -2.10885130e-32,   3.31005141e-34,   3.47733782e-38,\n",
       "        -2.43039210e-42,  -8.79553286e-46,   6.44569675e-50])"
      ]
     },
     "execution_count": 13,
     "metadata": {},
     "output_type": "execute_result"
    }
   ],
   "source": [
    "model_set4.coef_"
   ]
  },
  {
   "cell_type": "markdown",
   "metadata": {},
   "source": [
    "The four curves should differ from one another a lot, as should the coefficients you learned.\n",
    "\n",
    "***QUIZ QUESTION:  For the models learned in each of these training sets, what are the smallest and largest values you learned for the coefficient of feature `power_1`?***  (For the purpose of answering this question, negative numbers are considered \"smaller\" than positive numbers. So -5 is smaller than -3, and -3 is smaller than 5 and so forth.)"
   ]
  },
  {
   "cell_type": "code",
   "execution_count": 14,
   "metadata": {
    "collapsed": false
   },
   "outputs": [
    {
     "name": "stdout",
     "output_type": "stream",
     "text": [
      "Smallest power_1 weight with small L2 penalty is -755.395869\n"
     ]
    }
   ],
   "source": [
    "print(\"Smallest power_1 weight with small L2 penalty is %f\" % min(model_set1.coef_[0],model_set2.coef_[0],model_set3.coef_[0],model_set4.coef_[0]))"
   ]
  },
  {
   "cell_type": "code",
   "execution_count": 15,
   "metadata": {
    "collapsed": false
   },
   "outputs": [
    {
     "name": "stdout",
     "output_type": "stream",
     "text": [
      "Largest power_1 weight with small L2 penalty is 1119.445700\n"
     ]
    }
   ],
   "source": [
    "print(\"Largest power_1 weight with small L2 penalty is %f\" % max(model_set1.coef_[0],model_set2.coef_[0],model_set3.coef_[0],model_set4.coef_[0]))"
   ]
  },
  {
   "cell_type": "markdown",
   "metadata": {},
   "source": [
    "# Ridge regression comes to rescue"
   ]
  },
  {
   "cell_type": "markdown",
   "metadata": {},
   "source": [
    "Generally, whenever we see weights change so much in response to change in data, we believe the variance of our estimate to be large. Ridge regression aims to address this issue by penalizing \"large\" weights. (Weights of `model15` looked quite small, but they are not that small because 'sqft_living' input is in the order of thousands.)\n",
    "\n",
    "With the argument `l2_penalty=1e5`, fit a 15th-order polynomial model on `set_1`, `set_2`, `set_3`, and `set_4`. Other than the change in the `l2_penalty` parameter, the code should be the same as the experiment above. "
   ]
  },
  {
   "cell_type": "code",
   "execution_count": 16,
   "metadata": {
    "collapsed": false,
    "scrolled": false
   },
   "outputs": [
    {
     "data": {
      "text/plain": [
       "Ridge(alpha=123.0, copy_X=True, fit_intercept=True, max_iter=None,\n",
       "   normalize=True, random_state=None, solver='auto', tol=0.001)"
      ]
     },
     "execution_count": 16,
     "metadata": {},
     "output_type": "execute_result"
    }
   ],
   "source": [
    "l2_small_penalty=1.23e2\n",
    "# Copy-pasting should be avoided, creating a for loop with a dict or list of datasets... lazy today\n",
    "\n",
    "poly15_set1_data = polynomial_dataframe(set1_data['sqft_living'], 15)\n",
    "poly15_set2_data = polynomial_dataframe(set2_data['sqft_living'], 15)\n",
    "poly15_set3_data = polynomial_dataframe(set3_data['sqft_living'], 15)\n",
    "poly15_set4_data = polynomial_dataframe(set4_data['sqft_living'], 15)\n",
    "\n",
    "poly15_set1_features = poly15_set1_data.columns\n",
    "poly15_set2_features = poly15_set2_data.columns\n",
    "poly15_set3_features = poly15_set3_data.columns\n",
    "poly15_set4_features = poly15_set4_data.columns\n",
    "\n",
    "poly15_set1_data['price'] = set1_data['price']\n",
    "poly15_set2_data['price'] = set2_data['price']\n",
    "poly15_set3_data['price'] = set3_data['price']\n",
    "poly15_set4_data['price'] = set4_data['price']\n",
    "\n",
    "model_set1 = linear_model.Ridge(alpha=l2_small_penalty, normalize=True)\n",
    "model_set2 = linear_model.Ridge(alpha=l2_small_penalty, normalize=True)\n",
    "model_set3 = linear_model.Ridge(alpha=l2_small_penalty, normalize=True)\n",
    "model_set4 = linear_model.Ridge(alpha=l2_small_penalty, normalize=True)\n",
    "\n",
    "model_set1.fit(poly15_set1_data[poly15_set1_features], poly15_set1_data['price'])\n",
    "model_set2.fit(poly15_set2_data[poly15_set2_features], poly15_set2_data['price'])\n",
    "model_set3.fit(poly15_set3_data[poly15_set3_features], poly15_set3_data['price'])\n",
    "model_set4.fit(poly15_set4_data[poly15_set4_features], poly15_set4_data['price'])"
   ]
  },
  {
   "cell_type": "code",
   "execution_count": 17,
   "metadata": {
    "collapsed": false,
    "scrolled": false
   },
   "outputs": [
    {
     "data": {
      "image/png": "[encoded data removed]",
      "text/plain": [
       "<matplotlib.figure.Figure at 0x958a4a8>"
      ]
     },
     "metadata": {},
     "output_type": "display_data"
    }
   ],
   "source": [
    "plt.figure(figsize=(8,6))\n",
    "plt.plot(sales['sqft_living'], sales['price'],'.', label= 'House Price Data')\n",
    "plt.hold(True)\n",
    "#\n",
    "plt.plot( poly15_set1_data['power_1'], model_set1.predict(poly15_set1_data[poly15_set1_features]), '-', label = \"Model 1\" )\n",
    "plt.plot( poly15_set2_data['power_1'], model_set2.predict(poly15_set2_data[poly15_set2_features]), '-', label = \"Model 2\" )\n",
    "plt.plot( poly15_set3_data['power_1'], model_set3.predict(poly15_set3_data[poly15_set3_features]), '-', label = \"Model 3\" )\n",
    "plt.plot( poly15_set4_data['power_1'], model_set4.predict(poly15_set4_data[poly15_set4_features]), '-', label = \"Model 4\" )\n",
    "#             \n",
    "plt.hold(False)\n",
    "plt.legend(loc='upper left', fontsize=16)\n",
    "plt.xlabel('Living Area (ft^2)', fontsize=16)\n",
    "plt.ylabel('House Price ($)', fontsize=16)\n",
    "plt.title('4 Diff. 15th Deg. Polynomial Regr. Models, Small L2 Penalty', fontsize=16)\n",
    "plt.axis([0.0, 14000.0, 0.0, 8000000.0])\n",
    "plt.show()"
   ]
  },
  {
   "cell_type": "code",
   "execution_count": 18,
   "metadata": {
    "collapsed": false
   },
   "outputs": [
    {
     "data": {
      "text/plain": [
       "array([  2.32806803e+00,   3.53621608e-04,   3.31969692e-08,\n",
       "         2.00082477e-12,   1.11492559e-16,   6.57786122e-21,\n",
       "         4.12939525e-25,   2.70393755e-29,   1.81614763e-33,\n",
       "         1.23824277e-37,   8.51872481e-42,   5.89455598e-46,\n",
       "         4.09542560e-50,   2.85464889e-54,   1.99547476e-58])"
      ]
     },
     "execution_count": 18,
     "metadata": {},
     "output_type": "execute_result"
    }
   ],
   "source": [
    "model_set1.coef_"
   ]
  },
  {
   "cell_type": "code",
   "execution_count": 19,
   "metadata": {
    "collapsed": false
   },
   "outputs": [
    {
     "data": {
      "text/plain": [
       "array([  2.09756903e+00,   3.90817483e-04,   6.67189944e-08,\n",
       "         8.90002997e-12,   9.72639877e-16,   9.69733682e-20,\n",
       "         9.50564475e-24,   9.44491031e-28,   9.57191338e-32,\n",
       "         9.86945155e-36,   1.03101115e-39,   1.08729784e-43,\n",
       "         1.15453748e-47,   1.23211305e-51,   1.31986696e-55])"
      ]
     },
     "execution_count": 19,
     "metadata": {},
     "output_type": "execute_result"
    }
   ],
   "source": [
    "model_set2.coef_"
   ]
  },
  {
   "cell_type": "code",
   "execution_count": 20,
   "metadata": {
    "collapsed": false
   },
   "outputs": [
    {
     "data": {
      "text/plain": [
       "array([  2.28906258e+00,   4.12472190e-04,   6.08835345e-08,\n",
       "         6.58572163e-12,   6.15278155e-16,   5.64446634e-20,\n",
       "         5.28834396e-24,   5.07091402e-28,   4.94657273e-32,\n",
       "         4.88043809e-36,   4.85009106e-40,   4.84161534e-44,\n",
       "         4.84635021e-48,   4.85883628e-52,   4.87558469e-56])"
      ]
     },
     "execution_count": 20,
     "metadata": {},
     "output_type": "execute_result"
    }
   ],
   "source": [
    "model_set3.coef_"
   ]
  },
  {
   "cell_type": "code",
   "execution_count": 21,
   "metadata": {
    "collapsed": false
   },
   "outputs": [
    {
     "data": {
      "text/plain": [
       "array([  2.08596194e+00,   4.05035772e-04,   7.46864647e-08,\n",
       "         1.13096608e-11,   1.45864442e-15,   1.73561251e-19,\n",
       "         2.01609632e-23,   2.34605255e-27,   2.75636073e-31,\n",
       "         3.27043069e-35,   3.91046855e-39,   4.70118041e-43,\n",
       "         5.67212304e-47,   6.85958087e-51,   8.30843630e-55])"
      ]
     },
     "execution_count": 21,
     "metadata": {},
     "output_type": "execute_result"
    }
   ],
   "source": [
    "model_set4.coef_"
   ]
  },
  {
   "cell_type": "code",
   "execution_count": 22,
   "metadata": {
    "collapsed": false
   },
   "outputs": [
    {
     "name": "stdout",
     "output_type": "stream",
     "text": [
      "Smallest power_1 weight with small L2 penalty is 2.085962\n"
     ]
    }
   ],
   "source": [
    "print(\"Smallest power_1 weight with small L2 penalty is %f\" % min(model_set1.coef_[0],model_set2.coef_[0],model_set3.coef_[0],model_set4.coef_[0]))"
   ]
  },
  {
   "cell_type": "code",
   "execution_count": 23,
   "metadata": {
    "collapsed": false
   },
   "outputs": [
    {
     "name": "stdout",
     "output_type": "stream",
     "text": [
      "Largest power_1 weight with small L2 penalty is 2.328068\n"
     ]
    }
   ],
   "source": [
    "print(\"Largest power_1 weight with small L2 penalty is %f\" % max(model_set1.coef_[0],model_set2.coef_[0],model_set3.coef_[0],model_set4.coef_[0]))"
   ]
  },
  {
   "cell_type": "markdown",
   "metadata": {},
   "source": [
    "These curves should vary a lot less, now that you applied a high degree of regularization.\n",
    "\n",
    "***QUIZ QUESTION:  For the models learned with the high level of regularization in each of these training sets, what are the smallest and largest values you learned for the coefficient of feature `power_1`?*** (For the purpose of answering this question, negative numbers are considered \"smaller\" than positive numbers. So -5 is smaller than -3, and -3 is smaller than 5 and so forth.)"
   ]
  },
  {
   "cell_type": "markdown",
   "metadata": {},
   "source": [
    "# Selecting an L2 penalty via cross-validation"
   ]
  },
  {
   "cell_type": "markdown",
   "metadata": {},
   "source": [
    "Just like the polynomial degree, the L2 penalty is a \"magic\" parameter we need to select. We could use the validation set approach as we did in the last module, but that approach has a major disadvantage: it leaves fewer observations available for training. **Cross-validation** seeks to overcome this issue by using all of the training set in a smart way.\n",
    "\n",
    "We will implement a kind of cross-validation called **k-fold cross-validation**. The method gets its name because it involves dividing the training set into k segments of roughtly equal size. Similar to the validation set method, we measure the validation error with one of the segments designated as the validation set. The major difference is that we repeat the process k times as follows:\n",
    "\n",
    "Set aside segment 0 as the validation set, and fit a model on rest of data, and evalutate it on this validation set<br>\n",
    "Set aside segment 1 as the validation set, and fit a model on rest of data, and evalutate it on this validation set<br>\n",
    "...<br>\n",
    "Set aside segment k-1 as the validation set, and fit a model on rest of data, and evalutate it on this validation set\n",
    "\n",
    "After this process, we compute the average of the k validation errors, and use it as an estimate of the generalization error. Notice that  all observations are used for both training and validation, as we iterate over segments of data. \n",
    "\n",
    "To estimate the generalization error well, it is crucial to shuffle the training data before dividing them into segments. GraphLab Create has a utility function for shuffling a given SFrame. We reserve 10% of the data as the test set and shuffle the remainder. (Make sure to use `seed=1` to get consistent answer.)"
   ]
  },
  {
   "cell_type": "markdown",
   "metadata": {},
   "source": [
    "Once the data is shuffled, we divide it into equal segments. Each segment should receive `n/k` elements, where `n` is the number of observations in the training set and `k` is the number of segments. Since the segment 0 starts at index 0 and contains `n/k` elements, it ends at index `(n/k)-1`. The segment 1 starts where the segment 0 left off, at index `(n/k)`. With `n/k` elements, the segment 1 ends at index `(n*2/k)-1`. Continuing in this fashion, we deduce that the segment `i` starts at index `(n*i/k)` and ends at `(n*(i+1)/k)-1`."
   ]
  },
  {
   "cell_type": "markdown",
   "metadata": {},
   "source": [
    "With this pattern in mind, we write a short loop that prints the starting and ending indices of each segment, just to make sure you are getting the splits right."
   ]
  },
  {
   "cell_type": "code",
   "execution_count": null,
   "metadata": {
    "collapsed": true
   },
   "outputs": [],
   "source": [
    "n = len(train_valid_shuffled)\n",
    "k = 10 # 10-fold cross-validation\n",
    "\n",
    "for i in xrange(k):\n",
    "    start = (n*i)/k\n",
    "    end = (n*(i+1))/k-1\n",
    "    print i, (start, end)"
   ]
  },
  {
   "cell_type": "markdown",
   "metadata": {
    "collapsed": false
   },
   "source": [
    "Let us familiarize ourselves with array slicing with SFrame. To extract a continuous slice from an SFrame, use colon in square brackets. For instance, the following cell extracts rows 0 to 9 of `train_valid_shuffled`. Notice that the first index (0) is included in the slice but the last index (10) is omitted."
   ]
  },
  {
   "cell_type": "code",
   "execution_count": null,
   "metadata": {
    "collapsed": true
   },
   "outputs": [],
   "source": [
    "train_valid_shuffled[0:10] # rows 0 to 9"
   ]
  },
  {
   "cell_type": "markdown",
   "metadata": {},
   "source": [
    "Now let us extract individual segments with array slicing. Consider the scenario where we group the houses in the `train_valid_shuffled` dataframe into k=10 segments of roughly equal size, with starting and ending indices computed as above.\n",
    "Extract the fourth segment (segment 3) and assign it to a variable called `validation4`."
   ]
  },
  {
   "cell_type": "code",
   "execution_count": 25,
   "metadata": {
    "collapsed": false
   },
   "outputs": [
    {
     "ename": "NameError",
     "evalue": "name 'n' is not defined",
     "output_type": "error",
     "traceback": [
      "\u001b[1;31m---------------------------------------------------------------------------\u001b[0m",
      "\u001b[1;31mNameError\u001b[0m                                 Traceback (most recent call last)",
      "\u001b[1;32m<ipython-input-25-fb5d676c0c30>\u001b[0m in \u001b[0;36m<module>\u001b[1;34m()\u001b[0m\n\u001b[1;32m----> 1\u001b[1;33m \u001b[0mstart\u001b[0m \u001b[1;33m=\u001b[0m \u001b[1;33m(\u001b[0m\u001b[0mn\u001b[0m\u001b[1;33m*\u001b[0m\u001b[0mi\u001b[0m\u001b[1;33m)\u001b[0m\u001b[1;33m/\u001b[0m\u001b[1;36m10\u001b[0m\u001b[1;33m\u001b[0m\u001b[0m\n\u001b[0m\u001b[0;32m      2\u001b[0m \u001b[0mend\u001b[0m \u001b[1;33m=\u001b[0m \u001b[1;33m(\u001b[0m\u001b[0mn\u001b[0m\u001b[1;33m*\u001b[0m\u001b[1;33m(\u001b[0m\u001b[0mi\u001b[0m\u001b[1;33m+\u001b[0m\u001b[1;36m1\u001b[0m\u001b[1;33m)\u001b[0m\u001b[1;33m)\u001b[0m\u001b[1;33m/\u001b[0m\u001b[1;36m10\u001b[0m\u001b[1;33m\u001b[0m\u001b[0m\n\u001b[0;32m      3\u001b[0m \u001b[0mtrain_valid_shuffled\u001b[0m\u001b[1;33m[\u001b[0m\u001b[0mstart\u001b[0m\u001b[1;33m:\u001b[0m\u001b[0mend\u001b[0m\u001b[1;33m+\u001b[0m\u001b[1;36m1\u001b[0m\u001b[1;33m]\u001b[0m\u001b[1;33m\u001b[0m\u001b[0m\n",
      "\u001b[1;31mNameError\u001b[0m: name 'n' is not defined"
     ]
    }
   ],
   "source": [
    "start = (n*i)/10\n",
    "end = (n*(i+1))/10\n",
    "train_valid_shuffled[start:end+1]"
   ]
  },
  {
   "cell_type": "markdown",
   "metadata": {},
   "source": [
    "To verify that we have the right elements extracted, run the following cell, which computes the average price of the fourth segment. When rounded to nearest whole number, the average should be $536,234."
   ]
  },
  {
   "cell_type": "code",
   "execution_count": null,
   "metadata": {
    "collapsed": true
   },
   "outputs": [],
   "source": [
    "print int(round(validation4['price'].mean(), 0))"
   ]
  },
  {
   "cell_type": "markdown",
   "metadata": {},
   "source": [
    "After designating one of the k segments as the validation set, we train a model using the rest of the data. To choose the remainder, we slice (0:start) and (end+1:n) of the data and paste them together. SFrame has `append()` method that pastes together two disjoint sets of rows originating from a common dataset. For instance, the following cell pastes together the first and last two rows of the `train_valid_shuffled` dataframe."
   ]
  },
  {
   "cell_type": "code",
   "execution_count": null,
   "metadata": {
    "collapsed": true
   },
   "outputs": [],
   "source": [
    "n = len(train_valid_shuffled)\n",
    "first_two = train_valid_shuffled[0:2]\n",
    "last_two = train_valid_shuffled[n-2:n]\n",
    "print first_two.append(last_two)"
   ]
  },
  {
   "cell_type": "markdown",
   "metadata": {},
   "source": [
    "Extract the remainder of the data after *excluding* fourth segment (segment 3) and assign the subset to `train4`."
   ]
  },
  {
   "cell_type": "code",
   "execution_count": null,
   "metadata": {
    "collapsed": true
   },
   "outputs": [],
   "source": []
  },
  {
   "cell_type": "markdown",
   "metadata": {},
   "source": [
    "To verify that we have the right elements extracted, run the following cell, which computes the average price of the data with fourth segment excluded. When rounded to nearest whole number, the average should be $539,450."
   ]
  },
  {
   "cell_type": "code",
   "execution_count": null,
   "metadata": {
    "collapsed": true
   },
   "outputs": [],
   "source": [
    "print int(round(train4['price'].mean(), 0))"
   ]
  },
  {
   "cell_type": "markdown",
   "metadata": {},
   "source": [
    "Now we are ready to implement k-fold cross-validation. Write a function that computes k validation errors by designating each of the k segments as the validation set. It accepts as parameters (i) `k`, (ii) `l2_penalty`, (iii) dataframe, (iv) name of output column (e.g. `price`) and (v) list of feature names. The function returns the average validation error using k segments as validation sets.\n",
    "\n",
    "* For each i in [0, 1, ..., k-1]:\n",
    "  * Compute starting and ending indices of segment i and call 'start' and 'end'\n",
    "  * Form validation set by taking a slice (start:end+1) from the data.\n",
    "  * Form training set by appending slice (end+1:n) to the end of slice (0:start).\n",
    "  * Train a linear model using training set just formed, with a given l2_penalty\n",
    "  * Compute validation error using validation set just formed"
   ]
  },
  {
   "cell_type": "code",
   "execution_count": null,
   "metadata": {
    "collapsed": false
   },
   "outputs": [],
   "source": [
    "def k_fold_cross_validation(k, l2_penalty, data, output_name, features_list):\n",
    "    "
   ]
  },
  {
   "cell_type": "markdown",
   "metadata": {},
   "source": [
    "Once we have a function to compute the average validation error for a model, we can write a loop to find the model that minimizes the average validation error. Write a loop that does the following:\n",
    "* We will again be aiming to fit a 15th-order polynomial model using the `sqft_living` input\n",
    "* For `l2_penalty` in [10^1, 10^1.5, 10^2, 10^2.5, ..., 10^7] (to get this in Python, you can use this Numpy function: `np.logspace(1, 7, num=13)`.)\n",
    "    * Run 10-fold cross-validation with `l2_penalty`\n",
    "* Report which L2 penalty produced the lowest average validation error.\n",
    "\n",
    "Note: since the degree of the polynomial is now fixed to 15, to make things faster, you should generate polynomial features in advance and re-use them throughout the loop. Make sure to use `train_valid_shuffled` when generating polynomial features!"
   ]
  },
  {
   "cell_type": "code",
   "execution_count": null,
   "metadata": {
    "collapsed": true
   },
   "outputs": [],
   "source": []
  },
  {
   "cell_type": "markdown",
   "metadata": {},
   "source": [
    "***QUIZ QUESTIONS:  What is the best value for the L2 penalty according to 10-fold validation?***"
   ]
  },
  {
   "cell_type": "markdown",
   "metadata": {},
   "source": [
    "You may find it useful to plot the k-fold cross-validation errors you have obtained to better understand the behavior of the method.  "
   ]
  },
  {
   "cell_type": "code",
   "execution_count": null,
   "metadata": {
    "collapsed": true
   },
   "outputs": [],
   "source": [
    "# Plot the l2_penalty values in the x axis and the cross-validation error in the y axis.\n",
    "# Using plt.xscale('log') will make your plot more intuitive.\n",
    "\n"
   ]
  },
  {
   "cell_type": "markdown",
   "metadata": {},
   "source": [
    "Once you found the best value for the L2 penalty using cross-validation, it is important to retrain a final model on all of the training data using this value of `l2_penalty`.  This way, your final model will be trained on the entire dataset."
   ]
  },
  {
   "cell_type": "code",
   "execution_count": null,
   "metadata": {
    "collapsed": true
   },
   "outputs": [],
   "source": []
  },
  {
   "cell_type": "markdown",
   "metadata": {},
   "source": [
    "***QUIZ QUESTION: Using the best L2 penalty found above, train a model using all training data. What is the RSS on the TEST data of the model you learn with this L2 penalty? ***"
   ]
  },
  {
   "cell_type": "code",
   "execution_count": null,
   "metadata": {
    "collapsed": true
   },
   "outputs": [],
   "source": []
  }
 ],
 "metadata": {
  "kernelspec": {
   "display_name": "Python 2",
   "language": "python",
   "name": "python2"
  },
  "language_info": {
   "codemirror_mode": {
    "name": "ipython",
    "version": 2
   },
   "file_extension": ".py",
   "mimetype": "text/x-python",
   "name": "python",
   "nbconvert_exporter": "python",
   "pygments_lexer": "ipython2",
   "version": "2.7.11"
  }
 },
 "nbformat": 4,
 "nbformat_minor": 0
}
